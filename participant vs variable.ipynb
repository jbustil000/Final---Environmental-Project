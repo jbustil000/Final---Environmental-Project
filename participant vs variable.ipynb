{
 "cells": [
  {
   "cell_type": "code",
   "execution_count": 3,
   "metadata": {},
   "outputs": [],
   "source": [
    "import csv\n",
    "dataurl = \"https://github.com/jbustil000/Final---Environmental-Project/blob/master/Participant vs variable sheet.csv\""
   ]
  },
  {
   "cell_type": "code",
   "execution_count": 2,
   "metadata": {},
   "outputs": [],
   "source": [
    "import pandas as pd"
   ]
  },
  {
   "cell_type": "code",
   "execution_count": 5,
   "metadata": {},
   "outputs": [
    {
     "name": "stdout",
     "output_type": "stream",
     "text": [
      " BuildingHeights.csv                  MysteryJComplexityJunity.csv\r\n",
      " ColdorWarmHot.csv                    OneThroughTenDoneRight.csv\r\n",
      " ConservationEmotions.csv            'Participant vs variable sheet.csv'\r\n",
      " DAYSofWeek.csv                      'partipant vs variable.ipynb'\r\n",
      "'Electronic Devices Now.csv'          project.py.ipynb\r\n",
      " ElevationcsNow.csv                  'Solar most popular.csv'\r\n",
      "'Emotion intheCity.csv'              'Uses of Electronics Now.csv'\r\n",
      "'Global Issues important Scale.csv'   YesOrNoNumOn.csv\r\n",
      " howtosaveenergynow.csv               YesOrNoNumTwoNo.csv\r\n",
      "'Motivational Emotions in Type.csv'\r\n"
     ]
    }
   ],
   "source": [
    "ls"
   ]
  },
  {
   "cell_type": "code",
   "execution_count": 9,
   "metadata": {
    "scrolled": true
   },
   "outputs": [
    {
     "data": {
      "text/html": [
       "<div>\n",
       "<style scoped>\n",
       "    .dataframe tbody tr th:only-of-type {\n",
       "        vertical-align: middle;\n",
       "    }\n",
       "\n",
       "    .dataframe tbody tr th {\n",
       "        vertical-align: top;\n",
       "    }\n",
       "\n",
       "    .dataframe thead th {\n",
       "        text-align: right;\n",
       "    }\n",
       "</style>\n",
       "<table border=\"1\" class=\"dataframe\">\n",
       "  <thead>\n",
       "    <tr style=\"text-align: right;\">\n",
       "      <th></th>\n",
       "      <th>Unnamed: 0</th>\n",
       "      <th>Least Electrical Appliances</th>\n",
       "      <th>Least electrical energy</th>\n",
       "      <th>Drive the Least</th>\n",
       "      <th>Specific organization?</th>\n",
       "      <th>Sort Recyclables?</th>\n",
       "      <th>Planting activities?</th>\n",
       "      <th>Own plants?</th>\n",
       "      <th>Left the city?</th>\n",
       "      <th>Helped neighborhood planting?</th>\n",
       "      <th>...</th>\n",
       "      <th>Neuroticism</th>\n",
       "      <th>Openness to experience</th>\n",
       "      <th>Elevation?</th>\n",
       "      <th>Emotions conservation</th>\n",
       "      <th>Emotions City</th>\n",
       "      <th>Emotions surroundings</th>\n",
       "      <th>Building Heights?</th>\n",
       "      <th>Cold or Warm/Hot?</th>\n",
       "      <th>Daily Conservation?</th>\n",
       "      <th>(1-5 scale)Significance of environment on upbringing?</th>\n",
       "    </tr>\n",
       "  </thead>\n",
       "  <tbody>\n",
       "    <tr>\n",
       "      <th>0</th>\n",
       "      <td>participant 1</td>\n",
       "      <td>Tues</td>\n",
       "      <td>Tues</td>\n",
       "      <td>NaN</td>\n",
       "      <td>No</td>\n",
       "      <td>Yes</td>\n",
       "      <td>No</td>\n",
       "      <td>No</td>\n",
       "      <td>Yes</td>\n",
       "      <td>No</td>\n",
       "      <td>...</td>\n",
       "      <td>NaN</td>\n",
       "      <td>9</td>\n",
       "      <td>Higher</td>\n",
       "      <td>Therapeutic</td>\n",
       "      <td>Alive and Energetic</td>\n",
       "      <td>Bland</td>\n",
       "      <td>Taller</td>\n",
       "      <td>Warm/Hot</td>\n",
       "      <td>8</td>\n",
       "      <td>3</td>\n",
       "    </tr>\n",
       "    <tr>\n",
       "      <th>1</th>\n",
       "      <td>participant 2</td>\n",
       "      <td>Tues</td>\n",
       "      <td>Mon</td>\n",
       "      <td>NaN</td>\n",
       "      <td>No</td>\n",
       "      <td>Yes</td>\n",
       "      <td>No</td>\n",
       "      <td>No</td>\n",
       "      <td>Yes</td>\n",
       "      <td>No</td>\n",
       "      <td>...</td>\n",
       "      <td>5.0</td>\n",
       "      <td>6</td>\n",
       "      <td>Lower</td>\n",
       "      <td>NaN</td>\n",
       "      <td>Okay</td>\n",
       "      <td>Okay</td>\n",
       "      <td>Shorter</td>\n",
       "      <td>Warm/Hot</td>\n",
       "      <td>8</td>\n",
       "      <td>4</td>\n",
       "    </tr>\n",
       "    <tr>\n",
       "      <th>2</th>\n",
       "      <td>participant 3</td>\n",
       "      <td>Sat</td>\n",
       "      <td>Sat</td>\n",
       "      <td>Mon</td>\n",
       "      <td>No</td>\n",
       "      <td>Yes</td>\n",
       "      <td>No</td>\n",
       "      <td>Yes</td>\n",
       "      <td>Yes</td>\n",
       "      <td>Yes</td>\n",
       "      <td>...</td>\n",
       "      <td>6.0</td>\n",
       "      <td>6</td>\n",
       "      <td>Higher</td>\n",
       "      <td>Ease, happiness, respectful</td>\n",
       "      <td>Dirty</td>\n",
       "      <td>stuffy/crowded</td>\n",
       "      <td>Shorter</td>\n",
       "      <td>Warm/Hot</td>\n",
       "      <td>5</td>\n",
       "      <td>4</td>\n",
       "    </tr>\n",
       "    <tr>\n",
       "      <th>3</th>\n",
       "      <td>participant 4</td>\n",
       "      <td>Sun</td>\n",
       "      <td>Sun</td>\n",
       "      <td>NaN</td>\n",
       "      <td>No</td>\n",
       "      <td>Yes</td>\n",
       "      <td>No</td>\n",
       "      <td>Yes</td>\n",
       "      <td>Yes</td>\n",
       "      <td>Yes</td>\n",
       "      <td>...</td>\n",
       "      <td>NaN</td>\n",
       "      <td>10</td>\n",
       "      <td>Higher</td>\n",
       "      <td>Good</td>\n",
       "      <td>Energetic</td>\n",
       "      <td>Energetic</td>\n",
       "      <td>Shorter</td>\n",
       "      <td>Cold</td>\n",
       "      <td>4</td>\n",
       "      <td>5</td>\n",
       "    </tr>\n",
       "    <tr>\n",
       "      <th>4</th>\n",
       "      <td>participant 5</td>\n",
       "      <td>Mon</td>\n",
       "      <td>Mon</td>\n",
       "      <td>NaN</td>\n",
       "      <td>No</td>\n",
       "      <td>Yes</td>\n",
       "      <td>Yes</td>\n",
       "      <td>Yes</td>\n",
       "      <td>Yes</td>\n",
       "      <td>No</td>\n",
       "      <td>...</td>\n",
       "      <td>8.0</td>\n",
       "      <td>10</td>\n",
       "      <td>Lower</td>\n",
       "      <td>Positive</td>\n",
       "      <td>Stressful</td>\n",
       "      <td>Good</td>\n",
       "      <td>Shorter</td>\n",
       "      <td>Warm/Hot</td>\n",
       "      <td>8</td>\n",
       "      <td>4</td>\n",
       "    </tr>\n",
       "    <tr>\n",
       "      <th>5</th>\n",
       "      <td>participant 6</td>\n",
       "      <td>Fri</td>\n",
       "      <td>Fri</td>\n",
       "      <td>NaN</td>\n",
       "      <td>No</td>\n",
       "      <td>Yes</td>\n",
       "      <td>No</td>\n",
       "      <td>No</td>\n",
       "      <td>Yes</td>\n",
       "      <td>No</td>\n",
       "      <td>...</td>\n",
       "      <td>8.0</td>\n",
       "      <td>7</td>\n",
       "      <td>Higher</td>\n",
       "      <td>NaN</td>\n",
       "      <td>NaN</td>\n",
       "      <td>NaN</td>\n",
       "      <td>Shorter</td>\n",
       "      <td>Warm/Hot</td>\n",
       "      <td>7</td>\n",
       "      <td>2</td>\n",
       "    </tr>\n",
       "    <tr>\n",
       "      <th>6</th>\n",
       "      <td>participant 7</td>\n",
       "      <td>Wed</td>\n",
       "      <td>Thurs</td>\n",
       "      <td>NaN</td>\n",
       "      <td>No</td>\n",
       "      <td>Yes</td>\n",
       "      <td>No</td>\n",
       "      <td>No</td>\n",
       "      <td>Yes</td>\n",
       "      <td>No</td>\n",
       "      <td>...</td>\n",
       "      <td>3.0</td>\n",
       "      <td>7</td>\n",
       "      <td>Lower</td>\n",
       "      <td>NaN</td>\n",
       "      <td>Stressed</td>\n",
       "      <td>Stressed</td>\n",
       "      <td>Taller</td>\n",
       "      <td>Warm/Hot</td>\n",
       "      <td>6</td>\n",
       "      <td>4</td>\n",
       "    </tr>\n",
       "    <tr>\n",
       "      <th>7</th>\n",
       "      <td>participant 8</td>\n",
       "      <td>Fri</td>\n",
       "      <td>Fri</td>\n",
       "      <td>Fri</td>\n",
       "      <td>No</td>\n",
       "      <td>Yes</td>\n",
       "      <td>No</td>\n",
       "      <td>No</td>\n",
       "      <td>Yes</td>\n",
       "      <td>No</td>\n",
       "      <td>...</td>\n",
       "      <td>4.0</td>\n",
       "      <td>7</td>\n",
       "      <td>Lower</td>\n",
       "      <td>Happy</td>\n",
       "      <td>NaN</td>\n",
       "      <td>NaN</td>\n",
       "      <td>Shorter</td>\n",
       "      <td>Warm/Hot</td>\n",
       "      <td>6</td>\n",
       "      <td>3</td>\n",
       "    </tr>\n",
       "    <tr>\n",
       "      <th>8</th>\n",
       "      <td>participant 9</td>\n",
       "      <td>Sun</td>\n",
       "      <td>Sun</td>\n",
       "      <td>NaN</td>\n",
       "      <td>No</td>\n",
       "      <td>Yes</td>\n",
       "      <td>No</td>\n",
       "      <td>Yes</td>\n",
       "      <td>Yes</td>\n",
       "      <td>No</td>\n",
       "      <td>...</td>\n",
       "      <td>5.0</td>\n",
       "      <td>7</td>\n",
       "      <td>Higher</td>\n",
       "      <td>Happy, Pride, Satisfaction</td>\n",
       "      <td>Crowded</td>\n",
       "      <td>Polluted</td>\n",
       "      <td>Shorter</td>\n",
       "      <td>Warm/Hot</td>\n",
       "      <td>6</td>\n",
       "      <td>4</td>\n",
       "    </tr>\n",
       "    <tr>\n",
       "      <th>9</th>\n",
       "      <td>participant 10</td>\n",
       "      <td>Wed</td>\n",
       "      <td>Wed</td>\n",
       "      <td>NaN</td>\n",
       "      <td>No</td>\n",
       "      <td>Yes</td>\n",
       "      <td>Yes</td>\n",
       "      <td>No</td>\n",
       "      <td>Yes</td>\n",
       "      <td>Yes</td>\n",
       "      <td>...</td>\n",
       "      <td>10.0</td>\n",
       "      <td>8</td>\n",
       "      <td>Lower</td>\n",
       "      <td>Caring</td>\n",
       "      <td>Uncleanliness</td>\n",
       "      <td>People Don't Care</td>\n",
       "      <td>Shorter</td>\n",
       "      <td>Warm/Hot</td>\n",
       "      <td>8</td>\n",
       "      <td>4</td>\n",
       "    </tr>\n",
       "    <tr>\n",
       "      <th>10</th>\n",
       "      <td>participant 11</td>\n",
       "      <td>Fri</td>\n",
       "      <td>Fri</td>\n",
       "      <td>NaN</td>\n",
       "      <td>No</td>\n",
       "      <td>Yes</td>\n",
       "      <td>Yes</td>\n",
       "      <td>Yes</td>\n",
       "      <td>Yes</td>\n",
       "      <td>No</td>\n",
       "      <td>...</td>\n",
       "      <td>3.0</td>\n",
       "      <td>8</td>\n",
       "      <td>Higher</td>\n",
       "      <td>Helpful, Happy/Good</td>\n",
       "      <td>Poor</td>\n",
       "      <td>Motivated</td>\n",
       "      <td>Taller</td>\n",
       "      <td>Warm/Hot</td>\n",
       "      <td>4</td>\n",
       "      <td>5</td>\n",
       "    </tr>\n",
       "    <tr>\n",
       "      <th>11</th>\n",
       "      <td>participant 12</td>\n",
       "      <td>Sat</td>\n",
       "      <td>Sat</td>\n",
       "      <td>Sat</td>\n",
       "      <td>No</td>\n",
       "      <td>Yes</td>\n",
       "      <td>No</td>\n",
       "      <td>No</td>\n",
       "      <td>Yes</td>\n",
       "      <td>Yes</td>\n",
       "      <td>...</td>\n",
       "      <td>7.0</td>\n",
       "      <td>10</td>\n",
       "      <td>Higher</td>\n",
       "      <td>No Change</td>\n",
       "      <td>Proud</td>\n",
       "      <td>Proud</td>\n",
       "      <td>Taller</td>\n",
       "      <td>Warm/Hot</td>\n",
       "      <td>3</td>\n",
       "      <td>4</td>\n",
       "    </tr>\n",
       "  </tbody>\n",
       "</table>\n",
       "<p>12 rows × 54 columns</p>\n",
       "</div>"
      ],
      "text/plain": [
       "        Unnamed: 0 Least Electrical Appliances Least electrical energy  \\\n",
       "0    participant 1                        Tues                    Tues   \n",
       "1    participant 2                        Tues                     Mon   \n",
       "2    participant 3                         Sat                     Sat   \n",
       "3    participant 4                         Sun                     Sun   \n",
       "4    participant 5                         Mon                     Mon   \n",
       "5    participant 6                         Fri                     Fri   \n",
       "6    participant 7                         Wed                   Thurs   \n",
       "7    participant 8                         Fri                     Fri   \n",
       "8    participant 9                         Sun                     Sun   \n",
       "9   participant 10                         Wed                     Wed   \n",
       "10  participant 11                         Fri                     Fri   \n",
       "11  participant 12                         Sat                     Sat   \n",
       "\n",
       "   Drive the Least Specific organization? Sort Recyclables?  \\\n",
       "0              NaN                     No               Yes   \n",
       "1              NaN                     No               Yes   \n",
       "2              Mon                     No               Yes   \n",
       "3              NaN                     No               Yes   \n",
       "4              NaN                     No               Yes   \n",
       "5              NaN                     No               Yes   \n",
       "6              NaN                     No               Yes   \n",
       "7              Fri                     No               Yes   \n",
       "8              NaN                     No               Yes   \n",
       "9              NaN                     No               Yes   \n",
       "10             NaN                     No               Yes   \n",
       "11             Sat                     No               Yes   \n",
       "\n",
       "   Planting activities? Own plants? Left the city?  \\\n",
       "0                    No          No            Yes   \n",
       "1                    No          No            Yes   \n",
       "2                    No         Yes            Yes   \n",
       "3                    No         Yes            Yes   \n",
       "4                   Yes         Yes            Yes   \n",
       "5                    No          No            Yes   \n",
       "6                    No          No            Yes   \n",
       "7                    No          No            Yes   \n",
       "8                    No         Yes            Yes   \n",
       "9                   Yes          No            Yes   \n",
       "10                  Yes         Yes            Yes   \n",
       "11                   No          No            Yes   \n",
       "\n",
       "   Helped neighborhood planting?  \\\n",
       "0                             No   \n",
       "1                             No   \n",
       "2                            Yes   \n",
       "3                            Yes   \n",
       "4                             No   \n",
       "5                             No   \n",
       "6                             No   \n",
       "7                             No   \n",
       "8                             No   \n",
       "9                            Yes   \n",
       "10                            No   \n",
       "11                           Yes   \n",
       "\n",
       "                            ...                           Neuroticism  \\\n",
       "0                           ...                                   NaN   \n",
       "1                           ...                                   5.0   \n",
       "2                           ...                                   6.0   \n",
       "3                           ...                                   NaN   \n",
       "4                           ...                                   8.0   \n",
       "5                           ...                                   8.0   \n",
       "6                           ...                                   3.0   \n",
       "7                           ...                                   4.0   \n",
       "8                           ...                                   5.0   \n",
       "9                           ...                                  10.0   \n",
       "10                          ...                                   3.0   \n",
       "11                          ...                                   7.0   \n",
       "\n",
       "   Openness to experience  Elevation?        Emotions conservation  \\\n",
       "0                       9      Higher                  Therapeutic   \n",
       "1                       6       Lower                          NaN   \n",
       "2                       6      Higher  Ease, happiness, respectful   \n",
       "3                      10      Higher                         Good   \n",
       "4                      10       Lower                     Positive   \n",
       "5                       7      Higher                          NaN   \n",
       "6                       7       Lower                          NaN   \n",
       "7                       7       Lower                        Happy   \n",
       "8                       7      Higher   Happy, Pride, Satisfaction   \n",
       "9                       8       Lower                       Caring   \n",
       "10                      8      Higher          Helpful, Happy/Good   \n",
       "11                     10      Higher                    No Change   \n",
       "\n",
       "          Emotions City  Emotions surroundings  Building Heights?  \\\n",
       "0   Alive and Energetic                  Bland             Taller   \n",
       "1                  Okay                   Okay            Shorter   \n",
       "2                 Dirty         stuffy/crowded            Shorter   \n",
       "3             Energetic              Energetic            Shorter   \n",
       "4             Stressful                   Good            Shorter   \n",
       "5                   NaN                    NaN            Shorter   \n",
       "6              Stressed               Stressed             Taller   \n",
       "7                   NaN                    NaN            Shorter   \n",
       "8               Crowded               Polluted            Shorter   \n",
       "9         Uncleanliness      People Don't Care            Shorter   \n",
       "10                 Poor              Motivated             Taller   \n",
       "11                Proud                  Proud             Taller   \n",
       "\n",
       "    Cold or Warm/Hot?  Daily Conservation?  \\\n",
       "0            Warm/Hot                    8   \n",
       "1            Warm/Hot                    8   \n",
       "2            Warm/Hot                    5   \n",
       "3                Cold                    4   \n",
       "4            Warm/Hot                    8   \n",
       "5            Warm/Hot                    7   \n",
       "6            Warm/Hot                    6   \n",
       "7            Warm/Hot                    6   \n",
       "8            Warm/Hot                    6   \n",
       "9            Warm/Hot                    8   \n",
       "10           Warm/Hot                    4   \n",
       "11           Warm/Hot                    3   \n",
       "\n",
       "    (1-5 scale)Significance of environment on upbringing?  \n",
       "0                                                   3      \n",
       "1                                                   4      \n",
       "2                                                   4      \n",
       "3                                                   5      \n",
       "4                                                   4      \n",
       "5                                                   2      \n",
       "6                                                   4      \n",
       "7                                                   3      \n",
       "8                                                   4      \n",
       "9                                                   4      \n",
       "10                                                  5      \n",
       "11                                                  4      \n",
       "\n",
       "[12 rows x 54 columns]"
      ]
     },
     "execution_count": 9,
     "metadata": {},
     "output_type": "execute_result"
    }
   ],
   "source": [
    "df = pd.read_csv(\"Participant vs variable sheet.csv\")\n",
    "df"
   ]
  },
  {
   "cell_type": "code",
   "execution_count": 11,
   "metadata": {},
   "outputs": [
    {
     "data": {
      "text/plain": [
       "<bound method NDFrame.describe of         Unnamed: 0 Least Electrical Appliances Least electrical energy  \\\n",
       "0    participant 1                        Tues                    Tues   \n",
       "1    participant 2                        Tues                     Mon   \n",
       "2    participant 3                         Sat                     Sat   \n",
       "3    participant 4                         Sun                     Sun   \n",
       "4    participant 5                         Mon                     Mon   \n",
       "5    participant 6                         Fri                     Fri   \n",
       "6    participant 7                         Wed                   Thurs   \n",
       "7    participant 8                         Fri                     Fri   \n",
       "8    participant 9                         Sun                     Sun   \n",
       "9   participant 10                         Wed                     Wed   \n",
       "10  participant 11                         Fri                     Fri   \n",
       "11  participant 12                         Sat                     Sat   \n",
       "\n",
       "   Drive the Least Specific organization? Sort Recyclables?  \\\n",
       "0              NaN                     No               Yes   \n",
       "1              NaN                     No               Yes   \n",
       "2              Mon                     No               Yes   \n",
       "3              NaN                     No               Yes   \n",
       "4              NaN                     No               Yes   \n",
       "5              NaN                     No               Yes   \n",
       "6              NaN                     No               Yes   \n",
       "7              Fri                     No               Yes   \n",
       "8              NaN                     No               Yes   \n",
       "9              NaN                     No               Yes   \n",
       "10             NaN                     No               Yes   \n",
       "11             Sat                     No               Yes   \n",
       "\n",
       "   Planting activities? Own plants? Left the city?  \\\n",
       "0                    No          No            Yes   \n",
       "1                    No          No            Yes   \n",
       "2                    No         Yes            Yes   \n",
       "3                    No         Yes            Yes   \n",
       "4                   Yes         Yes            Yes   \n",
       "5                    No          No            Yes   \n",
       "6                    No          No            Yes   \n",
       "7                    No          No            Yes   \n",
       "8                    No         Yes            Yes   \n",
       "9                   Yes          No            Yes   \n",
       "10                  Yes         Yes            Yes   \n",
       "11                   No          No            Yes   \n",
       "\n",
       "   Helped neighborhood planting?  \\\n",
       "0                             No   \n",
       "1                             No   \n",
       "2                            Yes   \n",
       "3                            Yes   \n",
       "4                             No   \n",
       "5                             No   \n",
       "6                             No   \n",
       "7                             No   \n",
       "8                             No   \n",
       "9                            Yes   \n",
       "10                            No   \n",
       "11                           Yes   \n",
       "\n",
       "                            ...                           Neuroticism  \\\n",
       "0                           ...                                   NaN   \n",
       "1                           ...                                   5.0   \n",
       "2                           ...                                   6.0   \n",
       "3                           ...                                   NaN   \n",
       "4                           ...                                   8.0   \n",
       "5                           ...                                   8.0   \n",
       "6                           ...                                   3.0   \n",
       "7                           ...                                   4.0   \n",
       "8                           ...                                   5.0   \n",
       "9                           ...                                  10.0   \n",
       "10                          ...                                   3.0   \n",
       "11                          ...                                   7.0   \n",
       "\n",
       "   Openness to experience  Elevation?        Emotions conservation  \\\n",
       "0                       9      Higher                  Therapeutic   \n",
       "1                       6       Lower                          NaN   \n",
       "2                       6      Higher  Ease, happiness, respectful   \n",
       "3                      10      Higher                         Good   \n",
       "4                      10       Lower                     Positive   \n",
       "5                       7      Higher                          NaN   \n",
       "6                       7       Lower                          NaN   \n",
       "7                       7       Lower                        Happy   \n",
       "8                       7      Higher   Happy, Pride, Satisfaction   \n",
       "9                       8       Lower                       Caring   \n",
       "10                      8      Higher          Helpful, Happy/Good   \n",
       "11                     10      Higher                    No Change   \n",
       "\n",
       "          Emotions City  Emotions surroundings  Building Heights?  \\\n",
       "0   Alive and Energetic                  Bland             Taller   \n",
       "1                  Okay                   Okay            Shorter   \n",
       "2                 Dirty         stuffy/crowded            Shorter   \n",
       "3             Energetic              Energetic            Shorter   \n",
       "4             Stressful                   Good            Shorter   \n",
       "5                   NaN                    NaN            Shorter   \n",
       "6              Stressed               Stressed             Taller   \n",
       "7                   NaN                    NaN            Shorter   \n",
       "8               Crowded               Polluted            Shorter   \n",
       "9         Uncleanliness      People Don't Care            Shorter   \n",
       "10                 Poor              Motivated             Taller   \n",
       "11                Proud                  Proud             Taller   \n",
       "\n",
       "    Cold or Warm/Hot?  Daily Conservation?  \\\n",
       "0            Warm/Hot                    8   \n",
       "1            Warm/Hot                    8   \n",
       "2            Warm/Hot                    5   \n",
       "3                Cold                    4   \n",
       "4            Warm/Hot                    8   \n",
       "5            Warm/Hot                    7   \n",
       "6            Warm/Hot                    6   \n",
       "7            Warm/Hot                    6   \n",
       "8            Warm/Hot                    6   \n",
       "9            Warm/Hot                    8   \n",
       "10           Warm/Hot                    4   \n",
       "11           Warm/Hot                    3   \n",
       "\n",
       "    (1-5 scale)Significance of environment on upbringing?  \n",
       "0                                                   3      \n",
       "1                                                   4      \n",
       "2                                                   4      \n",
       "3                                                   5      \n",
       "4                                                   4      \n",
       "5                                                   2      \n",
       "6                                                   4      \n",
       "7                                                   3      \n",
       "8                                                   4      \n",
       "9                                                   4      \n",
       "10                                                  5      \n",
       "11                                                  4      \n",
       "\n",
       "[12 rows x 54 columns]>"
      ]
     },
     "execution_count": 11,
     "metadata": {},
     "output_type": "execute_result"
    }
   ],
   "source": [
    "df.describe"
   ]
  },
  {
   "cell_type": "code",
   "execution_count": 15,
   "metadata": {},
   "outputs": [
    {
     "data": {
      "image/png": "[encoded data removed]",
      "text/plain": [
       "<Figure size 432x288 with 1 Axes>"
      ]
     },
     "metadata": {
      "needs_background": "light"
     },
     "output_type": "display_data"
    }
   ],
   "source": [
    "%matplotlib inline\n",
    "import matplotlib.pyplot as plt\n",
    "fig, ax = plt.subplots()\n",
    "_ = df.plot.bar(ax=ax)"
   ]
  },
  {
   "cell_type": "code",
   "execution_count": 16,
   "metadata": {},
   "outputs": [
    {
     "data": {
      "text/html": [
       "<div>\n",
       "<style scoped>\n",
       "    .dataframe tbody tr th:only-of-type {\n",
       "        vertical-align: middle;\n",
       "    }\n",
       "\n",
       "    .dataframe tbody tr th {\n",
       "        vertical-align: top;\n",
       "    }\n",
       "\n",
       "    .dataframe thead th {\n",
       "        text-align: right;\n",
       "    }\n",
       "</style>\n",
       "<table border=\"1\" class=\"dataframe\">\n",
       "  <thead>\n",
       "    <tr style=\"text-align: right;\">\n",
       "      <th></th>\n",
       "      <th>Unnamed: 0</th>\n",
       "      <th>Least Electrical Appliances</th>\n",
       "      <th>Least electrical energy</th>\n",
       "      <th>Drive the Least</th>\n",
       "      <th>Specific organization?</th>\n",
       "      <th>Sort Recyclables?</th>\n",
       "      <th>Planting activities?</th>\n",
       "      <th>Own plants?</th>\n",
       "      <th>Left the city?</th>\n",
       "      <th>Helped neighborhood planting?</th>\n",
       "      <th>...</th>\n",
       "      <th>Neuroticism</th>\n",
       "      <th>Openness to experience</th>\n",
       "      <th>Elevation?</th>\n",
       "      <th>Emotions conservation</th>\n",
       "      <th>Emotions City</th>\n",
       "      <th>Emotions surroundings</th>\n",
       "      <th>Building Heights?</th>\n",
       "      <th>Cold or Warm/Hot?</th>\n",
       "      <th>Daily Conservation?</th>\n",
       "      <th>(1-5 scale)Significance of environment on upbringing?</th>\n",
       "    </tr>\n",
       "  </thead>\n",
       "  <tbody>\n",
       "    <tr>\n",
       "      <th>0</th>\n",
       "      <td>participant 1</td>\n",
       "      <td>Tues</td>\n",
       "      <td>Tues</td>\n",
       "      <td>NaN</td>\n",
       "      <td>No</td>\n",
       "      <td>Yes</td>\n",
       "      <td>No</td>\n",
       "      <td>No</td>\n",
       "      <td>Yes</td>\n",
       "      <td>No</td>\n",
       "      <td>...</td>\n",
       "      <td>NaN</td>\n",
       "      <td>9</td>\n",
       "      <td>Higher</td>\n",
       "      <td>Therapeutic</td>\n",
       "      <td>Alive and Energetic</td>\n",
       "      <td>Bland</td>\n",
       "      <td>Taller</td>\n",
       "      <td>Warm/Hot</td>\n",
       "      <td>8</td>\n",
       "      <td>3</td>\n",
       "    </tr>\n",
       "    <tr>\n",
       "      <th>1</th>\n",
       "      <td>participant 2</td>\n",
       "      <td>Tues</td>\n",
       "      <td>Mon</td>\n",
       "      <td>NaN</td>\n",
       "      <td>No</td>\n",
       "      <td>Yes</td>\n",
       "      <td>No</td>\n",
       "      <td>No</td>\n",
       "      <td>Yes</td>\n",
       "      <td>No</td>\n",
       "      <td>...</td>\n",
       "      <td>5.0</td>\n",
       "      <td>6</td>\n",
       "      <td>Lower</td>\n",
       "      <td>NaN</td>\n",
       "      <td>Okay</td>\n",
       "      <td>Okay</td>\n",
       "      <td>Shorter</td>\n",
       "      <td>Warm/Hot</td>\n",
       "      <td>8</td>\n",
       "      <td>4</td>\n",
       "    </tr>\n",
       "    <tr>\n",
       "      <th>2</th>\n",
       "      <td>participant 3</td>\n",
       "      <td>Sat</td>\n",
       "      <td>Sat</td>\n",
       "      <td>Mon</td>\n",
       "      <td>No</td>\n",
       "      <td>Yes</td>\n",
       "      <td>No</td>\n",
       "      <td>Yes</td>\n",
       "      <td>Yes</td>\n",
       "      <td>Yes</td>\n",
       "      <td>...</td>\n",
       "      <td>6.0</td>\n",
       "      <td>6</td>\n",
       "      <td>Higher</td>\n",
       "      <td>Ease, happiness, respectful</td>\n",
       "      <td>Dirty</td>\n",
       "      <td>stuffy/crowded</td>\n",
       "      <td>Shorter</td>\n",
       "      <td>Warm/Hot</td>\n",
       "      <td>5</td>\n",
       "      <td>4</td>\n",
       "    </tr>\n",
       "    <tr>\n",
       "      <th>3</th>\n",
       "      <td>participant 4</td>\n",
       "      <td>Sun</td>\n",
       "      <td>Sun</td>\n",
       "      <td>NaN</td>\n",
       "      <td>No</td>\n",
       "      <td>Yes</td>\n",
       "      <td>No</td>\n",
       "      <td>Yes</td>\n",
       "      <td>Yes</td>\n",
       "      <td>Yes</td>\n",
       "      <td>...</td>\n",
       "      <td>NaN</td>\n",
       "      <td>10</td>\n",
       "      <td>Higher</td>\n",
       "      <td>Good</td>\n",
       "      <td>Energetic</td>\n",
       "      <td>Energetic</td>\n",
       "      <td>Shorter</td>\n",
       "      <td>Cold</td>\n",
       "      <td>4</td>\n",
       "      <td>5</td>\n",
       "    </tr>\n",
       "    <tr>\n",
       "      <th>4</th>\n",
       "      <td>participant 5</td>\n",
       "      <td>Mon</td>\n",
       "      <td>Mon</td>\n",
       "      <td>NaN</td>\n",
       "      <td>No</td>\n",
       "      <td>Yes</td>\n",
       "      <td>Yes</td>\n",
       "      <td>Yes</td>\n",
       "      <td>Yes</td>\n",
       "      <td>No</td>\n",
       "      <td>...</td>\n",
       "      <td>8.0</td>\n",
       "      <td>10</td>\n",
       "      <td>Lower</td>\n",
       "      <td>Positive</td>\n",
       "      <td>Stressful</td>\n",
       "      <td>Good</td>\n",
       "      <td>Shorter</td>\n",
       "      <td>Warm/Hot</td>\n",
       "      <td>8</td>\n",
       "      <td>4</td>\n",
       "    </tr>\n",
       "  </tbody>\n",
       "</table>\n",
       "<p>5 rows × 54 columns</p>\n",
       "</div>"
      ],
      "text/plain": [
       "      Unnamed: 0 Least Electrical Appliances Least electrical energy  \\\n",
       "0  participant 1                        Tues                    Tues   \n",
       "1  participant 2                        Tues                     Mon   \n",
       "2  participant 3                         Sat                     Sat   \n",
       "3  participant 4                         Sun                     Sun   \n",
       "4  participant 5                         Mon                     Mon   \n",
       "\n",
       "  Drive the Least Specific organization? Sort Recyclables?  \\\n",
       "0             NaN                     No               Yes   \n",
       "1             NaN                     No               Yes   \n",
       "2             Mon                     No               Yes   \n",
       "3             NaN                     No               Yes   \n",
       "4             NaN                     No               Yes   \n",
       "\n",
       "  Planting activities? Own plants? Left the city?  \\\n",
       "0                   No          No            Yes   \n",
       "1                   No          No            Yes   \n",
       "2                   No         Yes            Yes   \n",
       "3                   No         Yes            Yes   \n",
       "4                  Yes         Yes            Yes   \n",
       "\n",
       "  Helped neighborhood planting?  \\\n",
       "0                            No   \n",
       "1                            No   \n",
       "2                           Yes   \n",
       "3                           Yes   \n",
       "4                            No   \n",
       "\n",
       "                           ...                           Neuroticism  \\\n",
       "0                          ...                                   NaN   \n",
       "1                          ...                                   5.0   \n",
       "2                          ...                                   6.0   \n",
       "3                          ...                                   NaN   \n",
       "4                          ...                                   8.0   \n",
       "\n",
       "  Openness to experience  Elevation?        Emotions conservation  \\\n",
       "0                      9      Higher                  Therapeutic   \n",
       "1                      6       Lower                          NaN   \n",
       "2                      6      Higher  Ease, happiness, respectful   \n",
       "3                     10      Higher                         Good   \n",
       "4                     10       Lower                     Positive   \n",
       "\n",
       "         Emotions City  Emotions surroundings  Building Heights?  \\\n",
       "0  Alive and Energetic                  Bland             Taller   \n",
       "1                 Okay                   Okay            Shorter   \n",
       "2                Dirty         stuffy/crowded            Shorter   \n",
       "3            Energetic              Energetic            Shorter   \n",
       "4            Stressful                   Good            Shorter   \n",
       "\n",
       "   Cold or Warm/Hot?  Daily Conservation?  \\\n",
       "0           Warm/Hot                    8   \n",
       "1           Warm/Hot                    8   \n",
       "2           Warm/Hot                    5   \n",
       "3               Cold                    4   \n",
       "4           Warm/Hot                    8   \n",
       "\n",
       "   (1-5 scale)Significance of environment on upbringing?  \n",
       "0                                                  3      \n",
       "1                                                  4      \n",
       "2                                                  4      \n",
       "3                                                  5      \n",
       "4                                                  4      \n",
       "\n",
       "[5 rows x 54 columns]"
      ]
     },
     "execution_count": 16,
     "metadata": {},
     "output_type": "execute_result"
    }
   ],
   "source": [
    "df.head()"
   ]
  },
  {
   "cell_type": "code",
   "execution_count": 17,
   "metadata": {},
   "outputs": [
    {
     "data": {
      "text/plain": [
       "No     7\n",
       "Yes    5\n",
       "Name: Own plants?, dtype: int64"
      ]
     },
     "execution_count": 17,
     "metadata": {},
     "output_type": "execute_result"
    }
   ],
   "source": [
    "df['Own plants?'].value_counts()"
   ]
  },
  {
   "cell_type": "code",
   "execution_count": 19,
   "metadata": {},
   "outputs": [
    {
     "data": {
      "text/plain": [
       "4    7\n",
       "5    2\n",
       "3    2\n",
       "2    1\n",
       "Name: (1-5 scale)Significance of environment on upbringing?, dtype: int64"
      ]
     },
     "execution_count": 19,
     "metadata": {},
     "output_type": "execute_result"
    }
   ],
   "source": [
    "df['(1-5 scale)Significance of environment on upbringing?'].value_counts()"
   ]
  },
  {
   "cell_type": "code",
   "execution_count": 20,
   "metadata": {},
   "outputs": [
    {
     "data": {
      "text/plain": [
       "8    4\n",
       "6    3\n",
       "4    2\n",
       "7    1\n",
       "5    1\n",
       "3    1\n",
       "Name: Daily Conservation?, dtype: int64"
      ]
     },
     "execution_count": 20,
     "metadata": {},
     "output_type": "execute_result"
    }
   ],
   "source": [
    "df['Daily Conservation?'].value_counts()"
   ]
  },
  {
   "cell_type": "code",
   "execution_count": 21,
   "metadata": {},
   "outputs": [
    {
     "data": {
      "text/plain": [
       "No     8\n",
       "Yes    4\n",
       "Name: Helped neighborhood planting?, dtype: int64"
      ]
     },
     "execution_count": 21,
     "metadata": {},
     "output_type": "execute_result"
    }
   ],
   "source": [
    "df['Helped neighborhood planting?'].value_counts()"
   ]
  },
  {
   "cell_type": "code",
   "execution_count": 25,
   "metadata": {},
   "outputs": [
    {
     "data": {
      "text/plain": [
       "Fri     3\n",
       "Tues    2\n",
       "Wed     2\n",
       "Sat     2\n",
       "Sun     2\n",
       "Mon     1\n",
       "Name: Least Electrical Appliances, dtype: int64"
      ]
     },
     "execution_count": 25,
     "metadata": {},
     "output_type": "execute_result"
    }
   ],
   "source": [
    "df['Least Electrical Appliances'].value_counts()"
   ]
  },
  {
   "cell_type": "code",
   "execution_count": 26,
   "metadata": {},
   "outputs": [
    {
     "data": {
      "text/plain": [
       "Fri      3\n",
       "Mon      2\n",
       "Sat      2\n",
       "Sun      2\n",
       "Tues     1\n",
       "Wed      1\n",
       "Thurs    1\n",
       "Name: Least electrical energy, dtype: int64"
      ]
     },
     "execution_count": 26,
     "metadata": {},
     "output_type": "execute_result"
    }
   ],
   "source": [
    "df['Least electrical energy'].value_counts()"
   ]
  },
  {
   "cell_type": "code",
   "execution_count": 28,
   "metadata": {},
   "outputs": [
    {
     "data": {
      "text/plain": [
       "No     9\n",
       "Yes    3\n",
       "Name: Planting activities?, dtype: int64"
      ]
     },
     "execution_count": 28,
     "metadata": {},
     "output_type": "execute_result"
    }
   ],
   "source": [
    "df['Planting activities?'].value_counts()"
   ]
  },
  {
   "cell_type": "code",
   "execution_count": 29,
   "metadata": {},
   "outputs": [
    {
     "data": {
      "text/plain": [
       "Fri    1\n",
       "Mon    1\n",
       "Sat    1\n",
       "Name: Drive the Least, dtype: int64"
      ]
     },
     "execution_count": 29,
     "metadata": {},
     "output_type": "execute_result"
    }
   ],
   "source": [
    "df['Drive the Least'].value_counts()"
   ]
  },
  {
   "cell_type": "code",
   "execution_count": 31,
   "metadata": {},
   "outputs": [
    {
     "data": {
      "text/plain": [
       "Warm/Hot    11\n",
       "Cold         1\n",
       "Name: Cold or Warm/Hot?, dtype: int64"
      ]
     },
     "execution_count": 31,
     "metadata": {},
     "output_type": "execute_result"
    }
   ],
   "source": [
    "df['Cold or Warm/Hot?'].value_counts()"
   ]
  },
  {
   "cell_type": "code",
   "execution_count": 36,
   "metadata": {},
   "outputs": [
    {
     "data": {
      "image/png": "[encoded data removed]",
      "text/plain": [
       "<Figure size 432x288 with 1 Axes>"
      ]
     },
     "metadata": {},
     "output_type": "display_data"
    }
   ],
   "source": [
    "fig, ax = plt.subplots()\n",
    "_ = df['Own plants?'].value_counts().plot.pie(ax=ax)\n",
    "ax.set_aspect('equal')"
   ]
  },
  {
   "cell_type": "code",
   "execution_count": 37,
   "metadata": {},
   "outputs": [
    {
     "data": {
      "text/plain": [
       "Index(['Unnamed: 0', 'Least Electrical Appliances', 'Least electrical energy',\n",
       "       'Drive the Least', 'Specific organization?', 'Sort Recyclables?',\n",
       "       'Planting activities?', 'Own plants?', 'Left the city?',\n",
       "       'Helped neighborhood planting?', 'Visit a rural area?',\n",
       "       'Enjoyed rural?', 'environmental consciousness(1-10 scale)',\n",
       "       'Length of light', 'Legibility', 'Unity', 'Mystery', 'Complexity',\n",
       "       'amount of devices', 'Global issue important(1-5 scale)?',\n",
       "       'Electronic Devices', 'Renewable Energy', 'Uses',\n",
       "       'City reduce emissions before 2030?',\n",
       "       'Living in America conditioned you?', 'Social influence?',\n",
       "       'Personal Influence?', 'Moral obligation?', 'Relaxing walk in park?',\n",
       "       'Carpool?', 'Nature Therapeutic?', 'Support GMO?', 'City cause stress?',\n",
       "       'Privacy improve thoughts?', 'Topography improve NYC?',\n",
       "       'Water improve NYC?', 'Grow vegetation in NYC?', 'States of stagnancy?',\n",
       "       'Lights off in unused?', 'Support organic?', 'NYC stagnant?',\n",
       "       'Extroversion', 'Agreeableness', 'Conscientiousness', 'Neuroticism',\n",
       "       'Openness to experience', 'Elevation?', 'Emotions conservation',\n",
       "       'Emotions City', 'Emotions surroundings', 'Building Heights?',\n",
       "       'Cold or Warm/Hot?', 'Daily Conservation?',\n",
       "       '(1-5 scale)Significance of environment on upbringing?'],\n",
       "      dtype='object')"
      ]
     },
     "execution_count": 37,
     "metadata": {},
     "output_type": "execute_result"
    }
   ],
   "source": [
    "df.columns"
   ]
  },
  {
   "cell_type": "code",
   "execution_count": 40,
   "metadata": {},
   "outputs": [
    {
     "data": {
      "image/png": "[encoded data removed]",
      "text/plain": [
       "<Figure size 432x288 with 1 Axes>"
      ]
     },
     "metadata": {},
     "output_type": "display_data"
    }
   ],
   "source": [
    "fig, ax = plt.subplots()\n",
    "_ = df['Cold or Warm/Hot?'].value_counts().plot.pie(ax=ax)\n",
    "ax.set_aspect('equal')"
   ]
  },
  {
   "cell_type": "code",
   "execution_count": 53,
   "metadata": {},
   "outputs": [
    {
     "name": "stdout",
     "output_type": "stream",
     "text": [
      "12\n",
      "Least Electrical Appliances Statistics\n"
     ]
    }
   ],
   "source": [
    "import math\n",
    "print (3+2+2+2+2+1)\n",
    "print (\"Least Electrical Appliances Statistics\")"
   ]
  },
  {
   "cell_type": "code",
   "execution_count": 43,
   "metadata": {},
   "outputs": [
    {
     "data": {
      "text/plain": [
       "2.0"
      ]
     },
     "execution_count": 43,
     "metadata": {},
     "output_type": "execute_result"
    }
   ],
   "source": [
    "12/6"
   ]
  },
  {
   "cell_type": "code",
   "execution_count": 45,
   "metadata": {},
   "outputs": [
    {
     "data": {
      "text/plain": [
       "100"
      ]
     },
     "execution_count": 45,
     "metadata": {},
     "output_type": "execute_result"
    }
   ],
   "source": [
    "((12-2)**2)"
   ]
  },
  {
   "cell_type": "code",
   "execution_count": 48,
   "metadata": {},
   "outputs": [
    {
     "data": {
      "text/plain": [
       "3.779644730092272"
      ]
     },
     "execution_count": 48,
     "metadata": {},
     "output_type": "execute_result"
    }
   ],
   "source": [
    "math.sqrt(100/7)"
   ]
  },
  {
   "cell_type": "code",
   "execution_count": 49,
   "metadata": {},
   "outputs": [
    {
     "data": {
      "text/plain": [
       "2.886751345948129"
      ]
     },
     "execution_count": 49,
     "metadata": {},
     "output_type": "execute_result"
    }
   ],
   "source": [
    "math.sqrt(100/12)"
   ]
  },
  {
   "cell_type": "code",
   "execution_count": 63,
   "metadata": {},
   "outputs": [
    {
     "name": "stdout",
     "output_type": "stream",
     "text": [
      "plant stats\n"
     ]
    },
    {
     "data": {
      "text/plain": [
       "4.242640687119285"
      ]
     },
     "execution_count": 63,
     "metadata": {},
     "output_type": "execute_result"
    }
   ],
   "source": [
    "print (\"plant stats\"), ;math.sqrt((((9+3)-(12/2))**2)/2)"
   ]
  },
  {
   "cell_type": "code",
   "execution_count": 65,
   "metadata": {},
   "outputs": [
    {
     "name": "stdout",
     "output_type": "stream",
     "text": [
      "plant stats SD\n"
     ]
    },
    {
     "data": {
      "text/plain": [
       "1.7320508075688772"
      ]
     },
     "execution_count": 65,
     "metadata": {},
     "output_type": "execute_result"
    }
   ],
   "source": [
    "print (\"plant stats SD\"), ;math.sqrt((((9+3)-(12/2))**2)/12)"
   ]
  },
  {
   "cell_type": "code",
   "execution_count": 66,
   "metadata": {},
   "outputs": [
    {
     "data": {
      "text/plain": [
       "<bound method DataFrame.corr of         Unnamed: 0 Least Electrical Appliances Least electrical energy  \\\n",
       "0    participant 1                        Tues                    Tues   \n",
       "1    participant 2                        Tues                     Mon   \n",
       "2    participant 3                         Sat                     Sat   \n",
       "3    participant 4                         Sun                     Sun   \n",
       "4    participant 5                         Mon                     Mon   \n",
       "5    participant 6                         Fri                     Fri   \n",
       "6    participant 7                         Wed                   Thurs   \n",
       "7    participant 8                         Fri                     Fri   \n",
       "8    participant 9                         Sun                     Sun   \n",
       "9   participant 10                         Wed                     Wed   \n",
       "10  participant 11                         Fri                     Fri   \n",
       "11  participant 12                         Sat                     Sat   \n",
       "\n",
       "   Drive the Least Specific organization? Sort Recyclables?  \\\n",
       "0              NaN                     No               Yes   \n",
       "1              NaN                     No               Yes   \n",
       "2              Mon                     No               Yes   \n",
       "3              NaN                     No               Yes   \n",
       "4              NaN                     No               Yes   \n",
       "5              NaN                     No               Yes   \n",
       "6              NaN                     No               Yes   \n",
       "7              Fri                     No               Yes   \n",
       "8              NaN                     No               Yes   \n",
       "9              NaN                     No               Yes   \n",
       "10             NaN                     No               Yes   \n",
       "11             Sat                     No               Yes   \n",
       "\n",
       "   Planting activities? Own plants? Left the city?  \\\n",
       "0                    No          No            Yes   \n",
       "1                    No          No            Yes   \n",
       "2                    No         Yes            Yes   \n",
       "3                    No         Yes            Yes   \n",
       "4                   Yes         Yes            Yes   \n",
       "5                    No          No            Yes   \n",
       "6                    No          No            Yes   \n",
       "7                    No          No            Yes   \n",
       "8                    No         Yes            Yes   \n",
       "9                   Yes          No            Yes   \n",
       "10                  Yes         Yes            Yes   \n",
       "11                   No          No            Yes   \n",
       "\n",
       "   Helped neighborhood planting?  \\\n",
       "0                             No   \n",
       "1                             No   \n",
       "2                            Yes   \n",
       "3                            Yes   \n",
       "4                             No   \n",
       "5                             No   \n",
       "6                             No   \n",
       "7                             No   \n",
       "8                             No   \n",
       "9                            Yes   \n",
       "10                            No   \n",
       "11                           Yes   \n",
       "\n",
       "                            ...                           Neuroticism  \\\n",
       "0                           ...                                   NaN   \n",
       "1                           ...                                   5.0   \n",
       "2                           ...                                   6.0   \n",
       "3                           ...                                   NaN   \n",
       "4                           ...                                   8.0   \n",
       "5                           ...                                   8.0   \n",
       "6                           ...                                   3.0   \n",
       "7                           ...                                   4.0   \n",
       "8                           ...                                   5.0   \n",
       "9                           ...                                  10.0   \n",
       "10                          ...                                   3.0   \n",
       "11                          ...                                   7.0   \n",
       "\n",
       "   Openness to experience  Elevation?        Emotions conservation  \\\n",
       "0                       9      Higher                  Therapeutic   \n",
       "1                       6       Lower                          NaN   \n",
       "2                       6      Higher  Ease, happiness, respectful   \n",
       "3                      10      Higher                         Good   \n",
       "4                      10       Lower                     Positive   \n",
       "5                       7      Higher                          NaN   \n",
       "6                       7       Lower                          NaN   \n",
       "7                       7       Lower                        Happy   \n",
       "8                       7      Higher   Happy, Pride, Satisfaction   \n",
       "9                       8       Lower                       Caring   \n",
       "10                      8      Higher          Helpful, Happy/Good   \n",
       "11                     10      Higher                    No Change   \n",
       "\n",
       "          Emotions City  Emotions surroundings  Building Heights?  \\\n",
       "0   Alive and Energetic                  Bland             Taller   \n",
       "1                  Okay                   Okay            Shorter   \n",
       "2                 Dirty         stuffy/crowded            Shorter   \n",
       "3             Energetic              Energetic            Shorter   \n",
       "4             Stressful                   Good            Shorter   \n",
       "5                   NaN                    NaN            Shorter   \n",
       "6              Stressed               Stressed             Taller   \n",
       "7                   NaN                    NaN            Shorter   \n",
       "8               Crowded               Polluted            Shorter   \n",
       "9         Uncleanliness      People Don't Care            Shorter   \n",
       "10                 Poor              Motivated             Taller   \n",
       "11                Proud                  Proud             Taller   \n",
       "\n",
       "    Cold or Warm/Hot?  Daily Conservation?  \\\n",
       "0            Warm/Hot                    8   \n",
       "1            Warm/Hot                    8   \n",
       "2            Warm/Hot                    5   \n",
       "3                Cold                    4   \n",
       "4            Warm/Hot                    8   \n",
       "5            Warm/Hot                    7   \n",
       "6            Warm/Hot                    6   \n",
       "7            Warm/Hot                    6   \n",
       "8            Warm/Hot                    6   \n",
       "9            Warm/Hot                    8   \n",
       "10           Warm/Hot                    4   \n",
       "11           Warm/Hot                    3   \n",
       "\n",
       "    (1-5 scale)Significance of environment on upbringing?  \n",
       "0                                                   3      \n",
       "1                                                   4      \n",
       "2                                                   4      \n",
       "3                                                   5      \n",
       "4                                                   4      \n",
       "5                                                   2      \n",
       "6                                                   4      \n",
       "7                                                   3      \n",
       "8                                                   4      \n",
       "9                                                   4      \n",
       "10                                                  5      \n",
       "11                                                  4      \n",
       "\n",
       "[12 rows x 54 columns]>"
      ]
     },
     "execution_count": 66,
     "metadata": {},
     "output_type": "execute_result"
    }
   ],
   "source": [
    "df.corr"
   ]
  },
  {
   "cell_type": "code",
   "execution_count": 67,
   "metadata": {},
   "outputs": [
    {
     "data": {
      "text/html": [
       "<div>\n",
       "<style scoped>\n",
       "    .dataframe tbody tr th:only-of-type {\n",
       "        vertical-align: middle;\n",
       "    }\n",
       "\n",
       "    .dataframe tbody tr th {\n",
       "        vertical-align: top;\n",
       "    }\n",
       "\n",
       "    .dataframe thead th {\n",
       "        text-align: right;\n",
       "    }\n",
       "</style>\n",
       "<table border=\"1\" class=\"dataframe\">\n",
       "  <thead>\n",
       "    <tr style=\"text-align: right;\">\n",
       "      <th></th>\n",
       "      <th>environmental consciousness(1-10 scale)</th>\n",
       "      <th>Length of light</th>\n",
       "      <th>Legibility</th>\n",
       "      <th>Unity</th>\n",
       "      <th>Mystery</th>\n",
       "      <th>Complexity</th>\n",
       "      <th>amount of devices</th>\n",
       "      <th>Global issue important(1-5 scale)?</th>\n",
       "      <th>Extroversion</th>\n",
       "      <th>Agreeableness</th>\n",
       "      <th>Conscientiousness</th>\n",
       "      <th>Neuroticism</th>\n",
       "      <th>Openness to experience</th>\n",
       "      <th>Daily Conservation?</th>\n",
       "      <th>(1-5 scale)Significance of environment on upbringing?</th>\n",
       "    </tr>\n",
       "  </thead>\n",
       "  <tbody>\n",
       "    <tr>\n",
       "      <th>count</th>\n",
       "      <td>12.000000</td>\n",
       "      <td>11.000000</td>\n",
       "      <td>12.000000</td>\n",
       "      <td>12.000000</td>\n",
       "      <td>12.000000</td>\n",
       "      <td>12.000000</td>\n",
       "      <td>12.000000</td>\n",
       "      <td>12.000000</td>\n",
       "      <td>11.000000</td>\n",
       "      <td>12.0000</td>\n",
       "      <td>12.0000</td>\n",
       "      <td>10.000000</td>\n",
       "      <td>12.000000</td>\n",
       "      <td>12.000000</td>\n",
       "      <td>12.000000</td>\n",
       "    </tr>\n",
       "    <tr>\n",
       "      <th>mean</th>\n",
       "      <td>6.416667</td>\n",
       "      <td>3.727273</td>\n",
       "      <td>6.666667</td>\n",
       "      <td>6.916667</td>\n",
       "      <td>7.083333</td>\n",
       "      <td>8.083333</td>\n",
       "      <td>4.000000</td>\n",
       "      <td>3.416667</td>\n",
       "      <td>5.636364</td>\n",
       "      <td>6.5000</td>\n",
       "      <td>6.5000</td>\n",
       "      <td>5.900000</td>\n",
       "      <td>7.916667</td>\n",
       "      <td>6.083333</td>\n",
       "      <td>3.833333</td>\n",
       "    </tr>\n",
       "    <tr>\n",
       "      <th>std</th>\n",
       "      <td>1.311372</td>\n",
       "      <td>1.793929</td>\n",
       "      <td>2.188122</td>\n",
       "      <td>0.996205</td>\n",
       "      <td>1.676486</td>\n",
       "      <td>2.065224</td>\n",
       "      <td>2.374103</td>\n",
       "      <td>0.792961</td>\n",
       "      <td>1.804036</td>\n",
       "      <td>2.0226</td>\n",
       "      <td>2.0226</td>\n",
       "      <td>2.330951</td>\n",
       "      <td>1.505042</td>\n",
       "      <td>1.781640</td>\n",
       "      <td>0.834847</td>\n",
       "    </tr>\n",
       "    <tr>\n",
       "      <th>min</th>\n",
       "      <td>4.000000</td>\n",
       "      <td>2.000000</td>\n",
       "      <td>4.000000</td>\n",
       "      <td>6.000000</td>\n",
       "      <td>5.000000</td>\n",
       "      <td>5.000000</td>\n",
       "      <td>2.000000</td>\n",
       "      <td>2.000000</td>\n",
       "      <td>3.000000</td>\n",
       "      <td>3.0000</td>\n",
       "      <td>2.0000</td>\n",
       "      <td>3.000000</td>\n",
       "      <td>6.000000</td>\n",
       "      <td>3.000000</td>\n",
       "      <td>2.000000</td>\n",
       "    </tr>\n",
       "    <tr>\n",
       "      <th>25%</th>\n",
       "      <td>5.750000</td>\n",
       "      <td>3.000000</td>\n",
       "      <td>5.000000</td>\n",
       "      <td>6.000000</td>\n",
       "      <td>6.000000</td>\n",
       "      <td>7.250000</td>\n",
       "      <td>2.750000</td>\n",
       "      <td>3.000000</td>\n",
       "      <td>4.500000</td>\n",
       "      <td>5.7500</td>\n",
       "      <td>5.7500</td>\n",
       "      <td>4.250000</td>\n",
       "      <td>7.000000</td>\n",
       "      <td>4.750000</td>\n",
       "      <td>3.750000</td>\n",
       "    </tr>\n",
       "    <tr>\n",
       "      <th>50%</th>\n",
       "      <td>6.500000</td>\n",
       "      <td>3.000000</td>\n",
       "      <td>6.000000</td>\n",
       "      <td>7.000000</td>\n",
       "      <td>6.500000</td>\n",
       "      <td>8.000000</td>\n",
       "      <td>3.000000</td>\n",
       "      <td>3.000000</td>\n",
       "      <td>5.000000</td>\n",
       "      <td>6.0000</td>\n",
       "      <td>6.5000</td>\n",
       "      <td>5.500000</td>\n",
       "      <td>7.500000</td>\n",
       "      <td>6.000000</td>\n",
       "      <td>4.000000</td>\n",
       "    </tr>\n",
       "    <tr>\n",
       "      <th>75%</th>\n",
       "      <td>7.250000</td>\n",
       "      <td>4.000000</td>\n",
       "      <td>9.000000</td>\n",
       "      <td>7.250000</td>\n",
       "      <td>8.250000</td>\n",
       "      <td>10.000000</td>\n",
       "      <td>4.250000</td>\n",
       "      <td>4.000000</td>\n",
       "      <td>6.500000</td>\n",
       "      <td>8.0000</td>\n",
       "      <td>8.0000</td>\n",
       "      <td>7.750000</td>\n",
       "      <td>9.250000</td>\n",
       "      <td>8.000000</td>\n",
       "      <td>4.000000</td>\n",
       "    </tr>\n",
       "    <tr>\n",
       "      <th>max</th>\n",
       "      <td>8.000000</td>\n",
       "      <td>8.000000</td>\n",
       "      <td>10.000000</td>\n",
       "      <td>9.000000</td>\n",
       "      <td>10.000000</td>\n",
       "      <td>10.000000</td>\n",
       "      <td>10.000000</td>\n",
       "      <td>5.000000</td>\n",
       "      <td>9.000000</td>\n",
       "      <td>10.0000</td>\n",
       "      <td>10.0000</td>\n",
       "      <td>10.000000</td>\n",
       "      <td>10.000000</td>\n",
       "      <td>8.000000</td>\n",
       "      <td>5.000000</td>\n",
       "    </tr>\n",
       "  </tbody>\n",
       "</table>\n",
       "</div>"
      ],
      "text/plain": [
       "       environmental consciousness(1-10 scale)  Length of light  Legibility  \\\n",
       "count                                12.000000        11.000000   12.000000   \n",
       "mean                                  6.416667         3.727273    6.666667   \n",
       "std                                   1.311372         1.793929    2.188122   \n",
       "min                                   4.000000         2.000000    4.000000   \n",
       "25%                                   5.750000         3.000000    5.000000   \n",
       "50%                                   6.500000         3.000000    6.000000   \n",
       "75%                                   7.250000         4.000000    9.000000   \n",
       "max                                   8.000000         8.000000   10.000000   \n",
       "\n",
       "           Unity    Mystery  Complexity  amount of devices  \\\n",
       "count  12.000000  12.000000   12.000000          12.000000   \n",
       "mean    6.916667   7.083333    8.083333           4.000000   \n",
       "std     0.996205   1.676486    2.065224           2.374103   \n",
       "min     6.000000   5.000000    5.000000           2.000000   \n",
       "25%     6.000000   6.000000    7.250000           2.750000   \n",
       "50%     7.000000   6.500000    8.000000           3.000000   \n",
       "75%     7.250000   8.250000   10.000000           4.250000   \n",
       "max     9.000000  10.000000   10.000000          10.000000   \n",
       "\n",
       "       Global issue important(1-5 scale)?  Extroversion  Agreeableness  \\\n",
       "count                           12.000000     11.000000        12.0000   \n",
       "mean                             3.416667      5.636364         6.5000   \n",
       "std                              0.792961      1.804036         2.0226   \n",
       "min                              2.000000      3.000000         3.0000   \n",
       "25%                              3.000000      4.500000         5.7500   \n",
       "50%                              3.000000      5.000000         6.0000   \n",
       "75%                              4.000000      6.500000         8.0000   \n",
       "max                              5.000000      9.000000        10.0000   \n",
       "\n",
       "       Conscientiousness  Neuroticism  Openness to experience  \\\n",
       "count            12.0000    10.000000               12.000000   \n",
       "mean              6.5000     5.900000                7.916667   \n",
       "std               2.0226     2.330951                1.505042   \n",
       "min               2.0000     3.000000                6.000000   \n",
       "25%               5.7500     4.250000                7.000000   \n",
       "50%               6.5000     5.500000                7.500000   \n",
       "75%               8.0000     7.750000                9.250000   \n",
       "max              10.0000    10.000000               10.000000   \n",
       "\n",
       "       Daily Conservation?  \\\n",
       "count            12.000000   \n",
       "mean              6.083333   \n",
       "std               1.781640   \n",
       "min               3.000000   \n",
       "25%               4.750000   \n",
       "50%               6.000000   \n",
       "75%               8.000000   \n",
       "max               8.000000   \n",
       "\n",
       "       (1-5 scale)Significance of environment on upbringing?  \n",
       "count                                          12.000000      \n",
       "mean                                            3.833333      \n",
       "std                                             0.834847      \n",
       "min                                             2.000000      \n",
       "25%                                             3.750000      \n",
       "50%                                             4.000000      \n",
       "75%                                             4.000000      \n",
       "max                                             5.000000      "
      ]
     },
     "execution_count": 67,
     "metadata": {},
     "output_type": "execute_result"
    }
   ],
   "source": [
    "df.describe()"
   ]
  },
  {
   "cell_type": "code",
   "execution_count": 69,
   "metadata": {},
   "outputs": [
    {
     "data": {
      "image/png": "[encoded data removed]",
      "text/plain": [
       "<Figure size 432x288 with 1 Axes>"
      ]
     },
     "metadata": {
      "needs_background": "light"
     },
     "output_type": "display_data"
    }
   ],
   "source": [
    "fig, ax = plt.subplots()\n",
    "_ = ax.plot(df['Daily Conservation?'].sort_values().values, 'o')\n",
    "_ = ax.set_title(\"Conservsation\")\n",
    "_ = ax.set_xlabel(\"(1-5 scale)Significance of environment on upbringing?\")\n",
    "_ = ax.set_ylabel(\"Daily Conservation?\")"
   ]
  },
  {
   "cell_type": "code",
   "execution_count": 70,
   "metadata": {},
   "outputs": [
    {
     "data": {
      "image/png": "[encoded data removed]",
      "text/plain": [
       "<Figure size 432x288 with 1 Axes>"
      ]
     },
     "metadata": {
      "needs_background": "light"
     },
     "output_type": "display_data"
    }
   ],
   "source": [
    "fig, ax = plt.subplots()\n",
    "_ = ax.plot(df['Helped neighborhood planting?'].sort_values().values, 'o')\n",
    "_ = ax.set_title(\"Plants\")\n",
    "_ = ax.set_xlabel(\"Helped neighborhood planting?\")\n",
    "_ = ax.set_ylabel(\"Own plants?\")"
   ]
  },
  {
   "cell_type": "code",
   "execution_count": 71,
   "metadata": {},
   "outputs": [
    {
     "data": {
      "image/png": "[encoded data removed]",
      "text/plain": [
       "<Figure size 432x288 with 1 Axes>"
      ]
     },
     "metadata": {
      "needs_background": "light"
     },
     "output_type": "display_data"
    }
   ],
   "source": [
    "fig, ax = plt.subplots()\n",
    "_ = ax.plot(df['Global issue important(1-5 scale)?'].sort_values().values, 'o')\n",
    "_ = ax.set_title(\"Conservsation\")\n",
    "_ = ax.set_xlabel(\"Global issue important(1-5 scale)?\")\n",
    "_ = ax.set_ylabel(\"amount of devices\")"
   ]
  },
  {
   "cell_type": "code",
   "execution_count": null,
   "metadata": {},
   "outputs": [],
   "source": []
  },
  {
   "cell_type": "code",
   "execution_count": null,
   "metadata": {},
   "outputs": [],
   "source": []
  }
 ],
 "metadata": {
  "kernelspec": {
   "display_name": "Python 3",
   "language": "python",
   "name": "python3"
  },
  "language_info": {
   "codemirror_mode": {
    "name": "ipython",
    "version": 3
   },
   "file_extension": ".py",
   "mimetype": "text/x-python",
   "name": "python",
   "nbconvert_exporter": "python",
   "pygments_lexer": "ipython3",
   "version": "3.6.5"
  },
  "varInspector": {
   "cols": {
    "lenName": 16,
    "lenType": 16,
    "lenVar": 40
   },
   "kernels_config": {
    "python": {
     "delete_cmd_postfix": "",
     "delete_cmd_prefix": "del ",
     "library": "var_list.py",
     "varRefreshCmd": "print(var_dic_list())"
    },
    "r": {
     "delete_cmd_postfix": ") ",
     "delete_cmd_prefix": "rm(",
     "library": "var_list.r",
     "varRefreshCmd": "cat(var_dic_list()) "
    }
   },
   "types_to_exclude": [
    "module",
    "function",
    "builtin_function_or_method",
    "instance",
    "_Feature"
   ],
   "window_display": false
  }
 },
 "nbformat": 4,
 "nbformat_minor": 2
}
